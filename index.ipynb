{
 "cells": [
  {
   "cell_type": "code",
   "execution_count": 3,
   "metadata": {},
   "outputs": [
    {
     "ename": "ValueError",
     "evalue": "invalid literal for int() with base 10: ''",
     "output_type": "error",
     "traceback": [
      "\u001b[1;31m---------------------------------------------------------------------------\u001b[0m",
      "\u001b[1;31mValueError\u001b[0m                                Traceback (most recent call last)",
      "Cell \u001b[1;32mIn [3], line 1\u001b[0m\n\u001b[1;32m----> 1\u001b[0m t \u001b[39m=\u001b[39m \u001b[39mint\u001b[39m(\u001b[39minput\u001b[39m(\u001b[39m\"\u001b[39m\u001b[39m請輸入氣溫=> \u001b[39m\u001b[39m\"\u001b[39m))\n\u001b[0;32m      2\u001b[0m \u001b[39mif\u001b[39;00m t \u001b[39m<\u001b[39m \u001b[39m20\u001b[39m:\n\u001b[0;32m      3\u001b[0m     \u001b[39mprint\u001b[39m(\u001b[39m\"\u001b[39m\u001b[39m加件外套!\u001b[39m\u001b[39m\"\u001b[39m)\n",
      "\u001b[1;31mValueError\u001b[0m: invalid literal for int() with base 10: ''"
     ]
    }
   ],
   "source": [
    "t = int(input(\"請輸入氣溫=> \"))\n",
    "if t < 20:\n",
    "    print(\"加件外套!\")\n",
    "print(\"今天氣溫 = \"+str(t))"
   ]
  },
  {
   "cell_type": "code",
   "execution_count": null,
   "metadata": {},
   "outputs": [
    {
     "name": "stdout",
     "output_type": "stream",
     "text": [
      "加件外套!\n"
     ]
    }
   ],
   "source": [
    "m = int(input(\"請輸入氣溫=> \"))\n",
    "if m >= 20 and m <= 22:#顯示20~22度\n",
    "    print(\"加一件外套!\")"
   ]
  },
  {
   "cell_type": "code",
   "execution_count": null,
   "metadata": {},
   "outputs": [
    {
     "name": "stdout",
     "output_type": "stream",
     "text": [
      "不及格: 10\n"
     ]
    }
   ],
   "source": [
    "s = int(input(\"請輸入成績 => \"))\n",
    "if s < 50:\n",
    "    print(\"不及格:\",str(s))\n",
    "else:\n",
    "    print(\"及格:\",str(s))"
   ]
  },
  {
   "cell_type": "code",
   "execution_count": null,
   "metadata": {},
   "outputs": [
    {
     "name": "stdout",
     "output_type": "stream",
     "text": [
      "成績及格: 60\n"
     ]
    }
   ],
   "source": [
    "s1 = int(input(\"請輸入成績 => \"))\n",
    "if s1 >= 60:\n",
    "    print(\"成績及格:\",str(s1))\n",
    "else:\n",
    "    print(\"成績不及格:\",str(s1))"
   ]
  },
  {
   "cell_type": "code",
   "execution_count": null,
   "metadata": {},
   "outputs": [
    {
     "name": "stdout",
     "output_type": "stream",
     "text": [
      "成年人\n"
     ]
    }
   ],
   "source": [
    "a = int(input(\"請輸入年紀 => \"))\n",
    "if a < 13:\n",
    "    print(\"兒童\")\n",
    "elif a < 20:\n",
    "    print(\"青少年\")\n",
    "else:\n",
    "    print(\"成年人\")"
   ]
  },
  {
   "cell_type": "code",
   "execution_count": null,
   "metadata": {},
   "outputs": [
    {
     "name": "stdout",
     "output_type": "stream",
     "text": [
      "1 2 3 4 5 6 7 8 9 10 "
     ]
    }
   ],
   "source": [
    "m = int(input(\"請輸入數字 => \"))\n",
    "for i in range(1,m+1):\n",
    "    print(i,end=\" \")"
   ]
  },
  {
   "cell_type": "code",
   "execution_count": null,
   "metadata": {},
   "outputs": [
    {
     "name": "stdout",
     "output_type": "stream",
     "text": [
      "總和:  55\n"
     ]
    }
   ],
   "source": [
    "m = int(input(\"請輸入最大值: \"))\n",
    "s = 0\n",
    "for i in range(1,m+1):\n",
    "    s = s+i\n",
    "print(\"總和: \",str(s))"
   ]
  },
  {
   "cell_type": "code",
   "execution_count": null,
   "metadata": {},
   "outputs": [
    {
     "name": "stdout",
     "output_type": "stream",
     "text": [
      "總和:  55\n"
     ]
    }
   ],
   "source": [
    "m = int(input(\"請輸入最大值=> \"))\n",
    "s = 0\n",
    "for i in range(1,m+1):\n",
    "    s = s+i\n",
    "print(\"總和: \",str(s))"
   ]
  },
  {
   "cell_type": "code",
   "execution_count": null,
   "metadata": {},
   "outputs": [
    {
     "name": "stdout",
     "output_type": "stream",
     "text": [
      "range(11)的值:  0\n",
      "range(11)的值:  1\n",
      "range(11)的值:  2\n",
      "range(11)的值:  3\n",
      "range(11)的值:  4\n",
      "range(11)的值:  5\n",
      "range(11)的值:  6\n",
      "range(11)的值:  7\n",
      "range(11)的值:  8\n",
      "range(11)的值:  9\n",
      "range(11)的值:  10\n"
     ]
    }
   ],
   "source": [
    "for i in range(11):#利用for迴圈\n",
    "    print(\"range(11)的值: \",str(i))#0~10"
   ]
  },
  {
   "cell_type": "code",
   "execution_count": null,
   "metadata": {},
   "outputs": [
    {
     "name": "stdout",
     "output_type": "stream",
     "text": [
      "range(1,5)的值:  1\n",
      "range(1,5)的值:  2\n",
      "range(1,5)的值:  3\n",
      "range(1,5)的值:  4\n"
     ]
    }
   ],
   "source": [
    "for i in range(1,5):#利用for迴圈\n",
    "    print(\"range(1,5)的值: \",str(i))#1~4"
   ]
  },
  {
   "cell_type": "code",
   "execution_count": null,
   "metadata": {},
   "outputs": [
    {
     "name": "stdout",
     "output_type": "stream",
     "text": [
      "range(1,10,2)的值:  1 range(1,10,2)的值:  3 range(1,10,2)的值:  5 range(1,10,2)的值:  7 range(1,10,2)的值:  9 "
     ]
    }
   ],
   "source": [
    "for i in range(1,10,2):#利用for迴圈\n",
    "    print(\"range(1,10,2)的值: \",str(i),end=\" \")#0~10"
   ]
  },
  {
   "cell_type": "code",
   "execution_count": null,
   "metadata": {},
   "outputs": [
    {
     "name": "stdout",
     "output_type": "stream",
     "text": [
      "階層值! = 2\n"
     ]
    }
   ],
   "source": [
    "#while 迴圈(條件式)\n",
    "m = int(input(\"請輸入階層值 => \"))\n",
    "r = 1\n",
    "n = 1\n",
    "while n <= m:\n",
    "    r = r*n\n",
    "    n = n+1\n",
    "print(\"階層值! =\", str(r))\n",
    "    "
   ]
  },
  {
   "cell_type": "code",
   "execution_count": null,
   "metadata": {},
   "outputs": [
    {
     "name": "stdout",
     "output_type": "stream",
     "text": [
      "1 2 3 4 5 "
     ]
    }
   ],
   "source": [
    "i = 1\n",
    "while True:\n",
    "    print(i,end=\" \")\n",
    "    i = i + 1\n",
    "    if i > 5:\n",
    "        break"
   ]
  },
  {
   "cell_type": "code",
   "execution_count": null,
   "metadata": {},
   "outputs": [
    {
     "name": "stdout",
     "output_type": "stream",
     "text": [
      "2 4 6 8 10 "
     ]
    }
   ],
   "source": [
    "for i in range(1,11):#1~11\n",
    "    if i % 2:#要有除2，才能顯示出來\n",
    "        continue\n",
    "    print(i,end =\" \")#顯示2 4 6 8 10 \n"
   ]
  },
  {
   "cell_type": "code",
   "execution_count": null,
   "metadata": {},
   "outputs": [
    {
     "name": "stdout",
     "output_type": "stream",
     "text": [
      "3 6 9 "
     ]
    }
   ],
   "source": [
    "for i in range(1,11):#1~11\n",
    "    if i % 3:#要有除2，才能顯示出來\n",
    "        continue\n",
    "    print(i,end =\" \")#顯示3 6 9 "
   ]
  },
  {
   "cell_type": "code",
   "execution_count": null,
   "metadata": {},
   "outputs": [
    {
     "name": "stdout",
     "output_type": "stream",
     "text": [
      "1 2 3 4 5 6 7 8 9 10 11 "
     ]
    }
   ],
   "source": [
    "count = 0\n",
    "while True:\n",
    "    if count > 10:\n",
    "        break\n",
    "    count += 1\n",
    "    print(count,end=\" \")\n",
    "    "
   ]
  },
  {
   "cell_type": "code",
   "execution_count": null,
   "metadata": {},
   "outputs": [
    {
     "name": "stdout",
     "output_type": "stream",
     "text": [
      "歡迎學習 Python 程式設計\n"
     ]
    }
   ],
   "source": [
    "#函數(Functions)\n",
    "def print_msg():\n",
    "    print(\"歡迎學習 Python 程式設計\")\n",
    "print_msg()"
   ]
  },
  {
   "cell_type": "code",
   "execution_count": null,
   "metadata": {},
   "outputs": [
    {
     "data": {
      "text/plain": [
       "True"
      ]
     },
     "execution_count": 58,
     "metadata": {},
     "output_type": "execute_result"
    }
   ],
   "source": [
    "def is_vaild_num(no):#no是函數參數\n",
    "    if no >= 0 and no <= 200.0:\n",
    "        return True\n",
    "    else:\n",
    "        return False\n",
    "is_vaild_num(200)"
   ]
  },
  {
   "cell_type": "code",
   "execution_count": null,
   "metadata": {},
   "outputs": [
    {
     "name": "stdout",
     "output_type": "stream",
     "text": [
      "53.6\n"
     ]
    }
   ],
   "source": [
    "def convert_to_f(c):\n",
    "    f = (9.0 * c)/ 5.0 + 32.0\n",
    "    return f\n",
    "f1 = convert_to_f(12)#也可以用變數來代替函數\n",
    "print(f1)"
   ]
  },
  {
   "cell_type": "code",
   "execution_count": null,
   "metadata": {},
   "outputs": [
    {
     "name": "stdout",
     "output_type": "stream",
     "text": [
      "成績不及格\n"
     ]
    }
   ],
   "source": [
    "#利用函數來判斷\n",
    "def is_vaild_sum(s):\n",
    "    m = 1\n",
    "    for i in range(1,m+1):\n",
    "        if s >= 0 and  s <= 50:\n",
    "            print(\"成績不及格\")\n",
    "            i = i + 1\n",
    "            break\n",
    "    else:\n",
    "        print(\"成績及格\")\n",
    "is_vaild_sum(50)"
   ]
  },
  {
   "cell_type": "code",
   "execution_count": null,
   "metadata": {},
   "outputs": [
    {
     "name": "stdout",
     "output_type": "stream",
     "text": [
      "合法\n"
     ]
    }
   ],
   "source": [
    "def is_vaild_num(c):\n",
    "    if c:\n",
    "        print(\"合法\")\n",
    "    else:\n",
    "        print(\"不合法\")\n",
    "is_vaild_num(\"合法\")\n"
   ]
  },
  {
   "cell_type": "code",
   "execution_count": null,
   "metadata": {},
   "outputs": [
    {
     "name": "stdout",
     "output_type": "stream",
     "text": [
      "成績及格\n"
     ]
    }
   ],
   "source": [
    "import random\n",
    "\n",
    "R = random.randint(1,100)#利用亂數來判斷成績會不會及格\n",
    "if R != 100:\n",
    "    print(\"成績及格\")\n",
    "else:\n",
    "    print(\"成績不及格\")"
   ]
  },
  {
   "cell_type": "code",
   "execution_count": null,
   "metadata": {},
   "outputs": [
    {
     "name": "stdout",
     "output_type": "stream",
     "text": [
      "19\n"
     ]
    }
   ],
   "source": [
    "import random as R\n",
    "\n",
    "R1 = R.randint(1,100)\n",
    "print(R1)"
   ]
  },
  {
   "cell_type": "code",
   "execution_count": null,
   "metadata": {},
   "outputs": [
    {
     "ename": "FeatureNotFound",
     "evalue": "Couldn't find a tree builder with the features you requested: lxml. Do you need to install a parser library?",
     "output_type": "error",
     "traceback": [
      "\u001b[1;31m---------------------------------------------------------------------------\u001b[0m",
      "\u001b[1;31mFeatureNotFound\u001b[0m                           Traceback (most recent call last)",
      "Cell \u001b[1;32mIn [97], line 4\u001b[0m\n\u001b[0;32m      1\u001b[0m \u001b[39mfrom\u001b[39;00m \u001b[39mbs4\u001b[39;00m \u001b[39mimport\u001b[39;00m BeautifulSoup\n\u001b[0;32m      3\u001b[0m html_str \u001b[39m=\u001b[39m \u001b[39m\"\u001b[39m\u001b[39m<p>Hello world!</p>\u001b[39m\u001b[39m\"\u001b[39m\n\u001b[1;32m----> 4\u001b[0m soup \u001b[39m=\u001b[39m BeautifulSoup(html_str,\u001b[39m\"\u001b[39m\u001b[39mlxml\u001b[39m\u001b[39m\"\u001b[39m)\n\u001b[0;32m      5\u001b[0m \u001b[39mprint\u001b[39m(soup)\n\u001b[0;32m      7\u001b[0m \u001b[39mtry\u001b[39;00m:\n",
      "File \u001b[1;32md:\\Users\\FIrdy\\AppData\\Local\\Programs\\Python\\Python39\\lib\\site-packages\\bs4\\__init__.py:248\u001b[0m, in \u001b[0;36mBeautifulSoup.__init__\u001b[1;34m(self, markup, features, builder, parse_only, from_encoding, exclude_encodings, element_classes, **kwargs)\u001b[0m\n\u001b[0;32m    246\u001b[0m     builder_class \u001b[39m=\u001b[39m builder_registry\u001b[39m.\u001b[39mlookup(\u001b[39m*\u001b[39mfeatures)\n\u001b[0;32m    247\u001b[0m     \u001b[39mif\u001b[39;00m builder_class \u001b[39mis\u001b[39;00m \u001b[39mNone\u001b[39;00m:\n\u001b[1;32m--> 248\u001b[0m         \u001b[39mraise\u001b[39;00m FeatureNotFound(\n\u001b[0;32m    249\u001b[0m             \u001b[39m\"\u001b[39m\u001b[39mCouldn\u001b[39m\u001b[39m'\u001b[39m\u001b[39mt find a tree builder with the features you \u001b[39m\u001b[39m\"\u001b[39m\n\u001b[0;32m    250\u001b[0m             \u001b[39m\"\u001b[39m\u001b[39mrequested: \u001b[39m\u001b[39m%s\u001b[39;00m\u001b[39m. Do you need to install a parser library?\u001b[39m\u001b[39m\"\u001b[39m\n\u001b[0;32m    251\u001b[0m             \u001b[39m%\u001b[39m \u001b[39m\"\u001b[39m\u001b[39m,\u001b[39m\u001b[39m\"\u001b[39m\u001b[39m.\u001b[39mjoin(features))\n\u001b[0;32m    253\u001b[0m \u001b[39m# At this point either we have a TreeBuilder instance in\u001b[39;00m\n\u001b[0;32m    254\u001b[0m \u001b[39m# builder, or we have a builder_class that we can instantiate\u001b[39;00m\n\u001b[0;32m    255\u001b[0m \u001b[39m# with the remaining **kwargs.\u001b[39;00m\n\u001b[0;32m    256\u001b[0m \u001b[39mif\u001b[39;00m builder \u001b[39mis\u001b[39;00m \u001b[39mNone\u001b[39;00m:\n",
      "\u001b[1;31mFeatureNotFound\u001b[0m: Couldn't find a tree builder with the features you requested: lxml. Do you need to install a parser library?"
     ]
    }
   ],
   "source": [
    "from bs4 import BeautifulSoup\n",
    "\n",
    "html_str = \"<p>Hello world!</p>\"\n",
    "soup = BeautifulSoup(html_str,\"lxml\")\n",
    "print(soup)\n",
    "\n"
   ]
  },
  {
   "cell_type": "code",
   "execution_count": null,
   "metadata": {},
   "outputs": [
    {
     "name": "stdout",
     "output_type": "stream",
     "text": [
      "不存在\n"
     ]
    }
   ],
   "source": [
    "try:\n",
    "    soup = BeautifulSoup(html_str,\"lxml\")\n",
    "except:\n",
    "    print(\"不存在\")"
   ]
  },
  {
   "cell_type": "code",
   "execution_count": null,
   "metadata": {},
   "outputs": [
    {
     "name": "stdout",
     "output_type": "stream",
     "text": [
      "[1, 2, 3, 4, 5]\n",
      "[1, 2, 3, 4, 5, 6]\n",
      "[1, 2, 3, 4, 5, 'Bus']\n",
      "Bus\n",
      "Bus\n"
     ]
    }
   ],
   "source": [
    "#串列(List)或陣列(Arrays)\n",
    "ls = [1,2,3,4,5]\n",
    "print(ls)#顯示[1, 2, 3, 4, 5]\n",
    "ls.append(6)#把加入6放在ls裡面\n",
    "print(ls)\n",
    "ls[5] = \"Bus\"#把修改Bus放在ls裡面\n",
    "print(ls)\n",
    "print(ls[5])#找出最後items\n",
    "e = ls.pop()#取出最後items\n",
    "print(e)\n"
   ]
  },
  {
   "cell_type": "code",
   "execution_count": null,
   "metadata": {},
   "outputs": [
    {
     "name": "stdout",
     "output_type": "stream",
     "text": [
      "[1, 2, 3, 4]\n",
      "[2, 3, 4]\n",
      "[1, 2]\n",
      "[1, 2, 3, 4]\n",
      "[1, 2, 3]\n",
      "[7, 8, 2, 3, 4]\n"
     ]
    }
   ],
   "source": [
    "nums = list(range(1,5))#[1, 2, 3, 4]\n",
    "print(nums)#[1, 2, 3, 4]\n",
    "print(nums[1:])#[2, 3, 4]\n",
    "print(nums[:2])#[[1, 2]\n",
    "print(nums[:])#[1, 2, 3, 4]\n",
    "print(nums[:-1])#[1, 2, 3]\n",
    "nums[0:1] = [7,8]\n",
    "print(nums)#[7, 8, 2, 3, 4]"
   ]
  },
  {
   "cell_type": "code",
   "execution_count": null,
   "metadata": {},
   "outputs": [
    {
     "name": "stdout",
     "output_type": "stream",
     "text": [
      "cat dog bat "
     ]
    }
   ],
   "source": [
    "animals = [\"cat\",'dog','bat']\n",
    "\n",
    "for i in animals:\n",
    "    print(i,end =\" \")"
   ]
  },
  {
   "cell_type": "code",
   "execution_count": null,
   "metadata": {},
   "outputs": [
    {
     "name": "stdout",
     "output_type": "stream",
     "text": [
      "0 cat\n",
      "1 dog\n",
      "2 bat\n"
     ]
    }
   ],
   "source": [
    "animals = [\"cat\",'dog','bat']\n",
    "\n",
    "for index,animal in enumerate(animals):\n",
    "    print(index,animal)"
   ]
  },
  {
   "cell_type": "code",
   "execution_count": null,
   "metadata": {},
   "outputs": [
    {
     "name": "stdout",
     "output_type": "stream",
     "text": [
      "{'cat': 'white', 'dog': 'black'}\n",
      "white\n",
      "{'cat': 'white', 'dog': 'black', 'pig': 'pink'}\n",
      "pink\n",
      "N/A\n",
      "pink\n",
      "N/A\n",
      "False\n"
     ]
    }
   ],
   "source": [
    "d = {'cat':'white','dog':'black'}\n",
    "print(d)\n",
    "print(d['cat'])#顯示white\n",
    "d['pig'] = 'pink'#新增{pig':'pink'}\n",
    "print(d)#顯示{'cat': 'white', 'dog': 'black', 'pig': 'pink'}\n",
    "print(d['pig'])#顯示'pink'\n",
    "print(d.get(\"monkey\",'N/A'))#顯示N/A\n",
    "print(d.get(\"pig\",'N/A'))#顯示pink\n",
    "del d['pig']#刪除{'cat':'white'}\n",
    "print(d.get('pig','N/A'))#pig不存在，就顯示N/A\n",
    "print('pig'in d)#False"
   ]
  },
  {
   "cell_type": "code",
   "execution_count": 5,
   "metadata": {},
   "outputs": [
    {
     "name": "stdout",
     "output_type": "stream",
     "text": [
      "1\n"
     ]
    }
   ],
   "source": [
    "x = int(input(\"請輸入數字:\"))\n",
    "souce = x if x >=20 and x < 40 else x\n",
    "print(souce)"
   ]
  },
  {
   "cell_type": "code",
   "execution_count": null,
   "metadata": {},
   "outputs": [
    {
     "name": "stdout",
     "output_type": "stream",
     "text": [
      "[0, 1, 2, 3, 4, 5, 6, 7, 8, 9]\n"
     ]
    }
   ],
   "source": [
    "x = int(input(\"請輸入數字:\"))\n",
    "animal = [x for x in  range(10)]\n",
    "print(animal)\n"
   ]
  },
  {
   "cell_type": "code",
   "execution_count": 8,
   "metadata": {},
   "outputs": [
    {
     "name": "stdout",
     "output_type": "stream",
     "text": [
      "Chicked 2\n",
      "dog 4\n",
      "cat 4\n",
      "spider 4\n"
     ]
    }
   ],
   "source": [
    "diction = {\"Chicked\":2 , \"dog\":4  , \"cat\":4 ,\"spider\":4}\n",
    "for animal1 in diction:\n",
    "    legs = diction[animal1]\n",
    "    print(animal1,legs)"
   ]
  },
  {
   "cell_type": "code",
   "execution_count": 15,
   "metadata": {},
   "outputs": [
    {
     "name": "stdout",
     "output_type": "stream",
     "text": [
      "動物: Chicked 有 2 隻腳\n",
      "動物: dog 有 4 隻腳\n",
      "動物: cat 有 4 隻腳\n",
      "動物: spider 有 4 隻腳\n"
     ]
    }
   ],
   "source": [
    "d1 = {\"Chicked\":2 , \"dog\":4  , \"cat\":4 ,\"spider\":4}\n",
    "for animal2,leges in d1.items():\n",
    "    print(\"動物: %s 有 %d 隻腳\"%(animal2,leges))\n"
   ]
  },
  {
   "cell_type": "code",
   "execution_count": 19,
   "metadata": {},
   "outputs": [
    {
     "name": "stdout",
     "output_type": "stream",
     "text": [
      "{0: 0, 1: 1, 2: 4, 3: 9, 4: 16, 5: 25, 6: 36, 7: 49, 8: 64, 9: 81}\n"
     ]
    }
   ],
   "source": [
    "animal3 = {x:x*x for x in  range(10)}#用平方來做字典=> 2:4,3:9\n",
    "print(animal3)"
   ]
  },
  {
   "cell_type": "code",
   "execution_count": 33,
   "metadata": {},
   "outputs": [
    {
     "name": "stdout",
     "output_type": "stream",
     "text": [
      "{'dog', 'cat', 'spider', 'Chicked'}\n",
      "True\n",
      "False\n",
      "{'spider', 'fish', 'Chicked', 'dog', 'cat'}\n",
      "True\n",
      "5\n",
      "{'spider', 'fish', 'Chicked', 'dog', 'cat', 'Rabbit'}\n",
      "6\n",
      "5\n"
     ]
    }
   ],
   "source": [
    "#集合(sets)\n",
    "s = {\"Chicked\", \"dog\", \"cat\",\"spider\"}\n",
    "print(s)#{'dog', 'cat', 'spider', 'Chicked'}\n",
    "print(\"dog\" in s)#True\n",
    "print(\"tony\" in s)#False\n",
    "s.add(\"fish\")\n",
    "print(s)#{'spider', 'fish', 'Chicked', 'dog', 'cat'}\n",
    "print('fish' in s)\n",
    "print(len(s))\n",
    "s.add(\"Rabbit\")\n",
    "print(s)#{'spider', 'fish', 'Chicked', 'dog', 'cat', 'Rabbit'}\n",
    "print(len(s))\n",
    "s.remove(\"cat\")\n",
    "print(len(s))"
   ]
  },
  {
   "cell_type": "code",
   "execution_count": 34,
   "metadata": {},
   "outputs": [
    {
     "name": "stdout",
     "output_type": "stream",
     "text": [
      "#1: dog\n",
      "#2: spider\n",
      "#3: Chicked\n"
     ]
    }
   ],
   "source": [
    "animals = {\"Chicked\", \"dog\",\"spider\"}\n",
    "for index,animal in enumerate(animals):\n",
    "    print('#%d: %s'%(index+1,animal))"
   ]
  },
  {
   "cell_type": "code",
   "execution_count": 43,
   "metadata": {},
   "outputs": [
    {
     "name": "stdout",
     "output_type": "stream",
     "text": [
      "{4, 5}\n",
      "{1, 2, 3, 4, 5, 6, 7, 8}\n",
      "{1, 2, 3}\n",
      "{1, 2, 3, 6, 7, 8}\n"
     ]
    }
   ],
   "source": [
    "A = {1,2,3,4,5}\n",
    "B = {4,5,6,7,8}\n",
    "C = A & B#{4, 5} => 交集\n",
    "C = A.intersection(B)#{4, 5}\n",
    "print(C)\n",
    "C = A | B#{1, 2, 3, 4, 5, 6, 7, 8} => 聯集\n",
    "C = A.union(B)#{1, 2, 3, 4, 5, 6, 7, 8}\n",
    "print(C)\n",
    "C = A - B#{1, 2, 3} => 差集\n",
    "C = A.difference(B)#{1, 2, 3}\n",
    "print(C)\n",
    "C = A ^ B#{1, 2, 3, 6, 7, 8} => 對稱差集\n",
    "C = A.symmetric_difference(B)\n",
    "print(C) "
   ]
  },
  {
   "cell_type": "code",
   "execution_count": 52,
   "metadata": {},
   "outputs": [
    {
     "name": "stdout",
     "output_type": "stream",
     "text": [
      "<class 'tuple'>\n",
      "(5, 6, 7, 8)\n",
      "6\n",
      "8\n"
     ]
    }
   ],
   "source": [
    "#元組(Tuple)\n",
    "t = (5,6,7,8)\n",
    "print(type(t))#顯示<class 'tuple'>\n",
    "print(t)#(5, 6, 7, 8)\n",
    "print(t[1])#顯示\"6\"\n",
    "print(t[-1])#顯示\"8\"\n"
   ]
  },
  {
   "cell_type": "code",
   "execution_count": 84,
   "metadata": {},
   "outputs": [
    {
     "name": "stdout",
     "output_type": "stream",
     "text": [
      "姓名 = tony\n",
      "成績 = 85\n",
      "s1.name() = tony\n",
      "s1.grade() = 85\n",
      "s1.whoami() = tony\n"
     ]
    }
   ],
   "source": [
    "class Student:\n",
    "    def __init__(self,name,grade):#類別建構子\n",
    "        self.name = name\n",
    "        self.grade = grade\n",
    "\n",
    "    def dispalyStudent(self):\n",
    "        print(\"姓名 = \"+ self.name)\n",
    "        print(\"成績 = \"+str(self.grade))\n",
    "\n",
    "    def whoami(self):\n",
    "        return self.name\n",
    "\n",
    "s1 = Student(\"tony\",85)\n",
    "s1.dispalyStudent()\n",
    "print(\"s1.name() = \" +s1.name)\n",
    "print(\"s1.grade() = \" + str(s1.grade))\n",
    "print(\"s1.whoami() = \" + s1.whoami())\n",
    "\n",
    "\n",
    "\n"
   ]
  },
  {
   "cell_type": "code",
   "execution_count": 97,
   "metadata": {},
   "outputs": [
    {
     "name": "stdout",
     "output_type": "stream",
     "text": [
      "姓名 = 陳會安\n",
      "成績 = 85\n",
      "s1.name = 陳會安\n"
     ]
    }
   ],
   "source": [
    "# 定義Student類別\n",
    "class Student:\n",
    "    # 建構子\n",
    "    def __init__(self, name, grade):\n",
    "        self.name = name\n",
    "        self.__grade = grade#只要有__就是private(私有)\n",
    "    # 方法\n",
    "    def displayStudent(self):\n",
    "        print(\"姓名 = \" + self.name)\n",
    "        print(\"成績 = \" + str(self.__getGrade()))\n",
    "        \n",
    "    def __getGrade(self):\n",
    "        return self.__grade\n",
    "\n",
    "# 使用類別建立物件\n",
    "s1 = Student(\"陳會安\", 85)\n",
    "s1.displayStudent()  # 呼叫方法\n",
    "# print(\"s1.__getGrade() = \" + str(s1.__getGrade()))\n",
    "# 存取資料欄位\n",
    "print(\"s1.name = \" + s1.name)\n",
    "#print(\"s1.__grade = \" + s1.__grade)\n",
    "# print(s1.__grade)"
   ]
  },
  {
   "cell_type": "code",
   "execution_count": 111,
   "metadata": {},
   "outputs": [
    {
     "name": "stdout",
     "output_type": "stream",
     "text": [
      "嗨! 熊貓\n",
      "你12歲\n",
      "self.name = 熊貓\n",
      "self.age = 12\n"
     ]
    }
   ],
   "source": [
    "class zoo:\n",
    "    def __init__(self,name,age):\n",
    "        self.name = name\n",
    "        self.age = age\n",
    "    def say(self):\n",
    "        print(\"嗨!\",self.name)\n",
    "        print(\"你%s歲\"%(str(self.age)))\n",
    "    def __getage(self):\n",
    "        return self.name\n",
    "s2 = zoo(\"熊貓\",12)\n",
    "s2.say()\n",
    "print(\"self.name =\",s2.name)\n",
    "print(\"self.age =\",s2.age)  \n"
   ]
  },
  {
   "cell_type": "code",
   "execution_count": 113,
   "metadata": {},
   "outputs": [
    {
     "name": "stdout",
     "output_type": "stream",
     "text": [
      "嗨! 熊貓\n",
      "你12歲\n"
     ]
    }
   ],
   "source": [
    "class zoo:\n",
    "    def __init__(self,name,age):\n",
    "        self.name = name\n",
    "        self.__age = age\n",
    "    def say(self):\n",
    "        print(\"嗨!\",self.name)\n",
    "        print(\"你%s歲\"%(str(self.__getage())))\n",
    "    def __getage(self):\n",
    "        return self.__age\n",
    "s2 = zoo(\"熊貓\",12)\n",
    "s2.say()\n",
    " "
   ]
  }
 ],
 "metadata": {
  "kernelspec": {
   "display_name": "base",
   "language": "python",
   "name": "python3"
  },
  "language_info": {
   "codemirror_mode": {
    "name": "ipython",
    "version": 3
   },
   "file_extension": ".py",
   "mimetype": "text/x-python",
   "name": "python",
   "nbconvert_exporter": "python",
   "pygments_lexer": "ipython3",
   "version": "3.9.13 (main, Aug 25 2022, 23:51:50) [MSC v.1916 64 bit (AMD64)]"
  },
  "orig_nbformat": 4,
  "vscode": {
   "interpreter": {
    "hash": "a90aeebcf29d64a654773811cc170cb25061cb2498f10ac689db374c7bf325de"
   }
  }
 },
 "nbformat": 4,
 "nbformat_minor": 2
}
